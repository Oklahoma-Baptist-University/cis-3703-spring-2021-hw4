{
 "cells": [
  {
   "cell_type": "markdown",
   "metadata": {},
   "source": [
    "Submitting this homework implies that you agree to the OBU Honor Code:\n",
    "\n",
    "<b>On my honor as an OBU student, I pledge that I have neither received aid nor given aid on this homework.</b>"
   ]
  },
  {
   "cell_type": "markdown",
   "metadata": {},
   "source": [
    "# CIS 3703 Python Programming Homework #4"
   ]
  },
  {
   "cell_type": "markdown",
   "metadata": {},
   "source": [
    "Using this notebook, perform following tasks described in the README.md file.<p>\n",
    "    Clearly document the task as you implement them, either through a Notebook markdown or via Python comments."
   ]
  },
  {
   "cell_type": "markdown",
   "metadata": {},
   "source": [
    "## Problem #2 - Print out Grades"
   ]
  },
  {
   "cell_type": "code",
   "execution_count": 14,
   "metadata": {},
   "outputs": [],
   "source": [
    "def p2(grade_table, grade):\n",
    "    \"\"\"This function prints out and returns a letter\n",
    "    grade corresponding to a numberic grade from\n",
    "    1 to 5.\"\"\"\n",
    "    the_grade = grade_table[grade]\n",
    "    print(\"Student grade is\", the_grade)\n",
    "    return the_grade"
   ]
  },
  {
   "cell_type": "code",
   "execution_count": 15,
   "metadata": {},
   "outputs": [
    {
     "name": "stdout",
     "output_type": "stream",
     "text": [
      "Student grade is F\n"
     ]
    },
    {
     "data": {
      "text/plain": [
       "'F'"
      ]
     },
     "execution_count": 15,
     "metadata": {},
     "output_type": "execute_result"
    }
   ],
   "source": [
    "# Test F grade\n",
    "p2([\"F\", \"F\", \"D\", \"C\", \"B\", \"A\"], 1)"
   ]
  },
  {
   "cell_type": "code",
   "execution_count": 16,
   "metadata": {},
   "outputs": [
    {
     "name": "stdout",
     "output_type": "stream",
     "text": [
      "Student grade is D\n"
     ]
    },
    {
     "data": {
      "text/plain": [
       "'D'"
      ]
     },
     "execution_count": 16,
     "metadata": {},
     "output_type": "execute_result"
    }
   ],
   "source": [
    "# Test D grade\n",
    "p2([\"F\", \"F\", \"D\", \"C\", \"B\", \"A\"], 2)"
   ]
  },
  {
   "cell_type": "code",
   "execution_count": 17,
   "metadata": {},
   "outputs": [
    {
     "name": "stdout",
     "output_type": "stream",
     "text": [
      "Student grade is C\n"
     ]
    },
    {
     "data": {
      "text/plain": [
       "'C'"
      ]
     },
     "execution_count": 17,
     "metadata": {},
     "output_type": "execute_result"
    }
   ],
   "source": [
    "# Test C grade\n",
    "p2([\"F\", \"F\", \"D\", \"C\", \"B\", \"A\"], 3)"
   ]
  },
  {
   "cell_type": "code",
   "execution_count": 18,
   "metadata": {},
   "outputs": [
    {
     "name": "stdout",
     "output_type": "stream",
     "text": [
      "Student grade is A\n"
     ]
    },
    {
     "data": {
      "text/plain": [
       "'A'"
      ]
     },
     "execution_count": 18,
     "metadata": {},
     "output_type": "execute_result"
    }
   ],
   "source": [
    "# Test A grade\n",
    "p2([\"F\", \"F\", \"D\", \"C\", \"B\", \"A\"], 5)"
   ]
  },
  {
   "cell_type": "markdown",
   "metadata": {},
   "source": [
    "## Problem #4 - Acronym Generator"
   ]
  },
  {
   "cell_type": "code",
   "execution_count": 19,
   "metadata": {},
   "outputs": [],
   "source": [
    "def acronym_generator(the_phrase):\n",
    "    \"\"\"This function generates an acronym from a phrase. Assume\n",
    "    that the phrase does not contain anything other than\n",
    "    words (that start with a letter) and spaces.\"\"\"\n",
    "    \n",
    "    the_acronym = \"\"\n",
    "    # First, break the phrase into its tokens and\n",
    "    # process each token\n",
    "    for word in the_phrase.split():\n",
    "        # Add the first letter to the acronym\n",
    "        the_acronym = the_acronym + word[0].upper()\n",
    "    return the_acronym"
   ]
  },
  {
   "cell_type": "code",
   "execution_count": 22,
   "metadata": {},
   "outputs": [
    {
     "name": "stdout",
     "output_type": "stream",
     "text": [
      "RAM\n",
      "RAM\n",
      "NFL\n"
     ]
    }
   ],
   "source": [
    "print(acronym_generator(\"Random Access Memory\"))\n",
    "print(acronym_generator(\"random access memory\"))\n",
    "print(acronym_generator(\"National football lEAGUE\"))"
   ]
  },
  {
   "cell_type": "markdown",
   "metadata": {},
   "source": [
    "## Problem 5 - Single Name Numerology"
   ]
  },
  {
   "cell_type": "code",
   "execution_count": 37,
   "metadata": {},
   "outputs": [],
   "source": [
    "def numerology(the_name):\n",
    "    \"\"\"This function computes the numeric value of a name. Assume\n",
    "    that the name consists only of letters.\"\"\"\n",
    "    numeric_value = 0\n",
    "    for ch in the_name:\n",
    "        if (ord(ch) >= 97):\n",
    "            numeric_value = numeric_value + ord(ch) - 96\n",
    "        elif (ord(ch) >= 65):\n",
    "            numeric_value = numeric_value + ord(ch) - 64\n",
    "    print(\"The numeric value of the name\", the_name, \"is\", numeric_value)\n",
    "    return numeric_value"
   ]
  },
  {
   "cell_type": "code",
   "execution_count": 38,
   "metadata": {},
   "outputs": [
    {
     "name": "stdout",
     "output_type": "stream",
     "text": [
      "The numeric value of the name Tim is 42\n"
     ]
    },
    {
     "data": {
      "text/plain": [
       "42"
      ]
     },
     "execution_count": 38,
     "metadata": {},
     "output_type": "execute_result"
    }
   ],
   "source": [
    "numerology(\"Tim\")"
   ]
  },
  {
   "cell_type": "code",
   "execution_count": 39,
   "metadata": {},
   "outputs": [
    {
     "name": "stdout",
     "output_type": "stream",
     "text": [
      "The numeric value of the name Steve is 71\n"
     ]
    },
    {
     "data": {
      "text/plain": [
       "71"
      ]
     },
     "execution_count": 39,
     "metadata": {},
     "output_type": "execute_result"
    }
   ],
   "source": [
    "numerology(\"Steve\")"
   ]
  },
  {
   "cell_type": "markdown",
   "metadata": {},
   "source": [
    "## Problem 6 - Full Name Numerology"
   ]
  },
  {
   "cell_type": "code",
   "execution_count": 34,
   "metadata": {},
   "outputs": [],
   "source": [
    "def numerology_full(the_name):\n",
    "    \"\"\"This function computes the numeric value of a name. Assume\n",
    "    that the name consists only of letters and is separated\n",
    "    by spaces.\"\"\"\n",
    "    numeric_value = 0\n",
    "    for token in the_name.split():\n",
    "        for ch in token:\n",
    "            if (ord(ch) >= 97):\n",
    "                numeric_value = numeric_value + ord(ch) - 96\n",
    "            elif (ord(ch) >= 65):\n",
    "                numeric_value = numeric_value + ord(ch) - 64\n",
    "    print(\"The numeric value of the name\", the_name, \"is\", numeric_value)\n",
    "    return numeric_value"
   ]
  },
  {
   "cell_type": "code",
   "execution_count": 35,
   "metadata": {},
   "outputs": [
    {
     "name": "stdout",
     "output_type": "stream",
     "text": [
      "The numeric value of the name Tim Darr is 83\n"
     ]
    },
    {
     "data": {
      "text/plain": [
       "83"
      ]
     },
     "execution_count": 35,
     "metadata": {},
     "output_type": "execute_result"
    }
   ],
   "source": [
    "numerology_full(\"Tim Darr\")"
   ]
  },
  {
   "cell_type": "code",
   "execution_count": 36,
   "metadata": {},
   "outputs": [
    {
     "name": "stdout",
     "output_type": "stream",
     "text": [
      "The numeric value of the name Steve Rogers is 153\n"
     ]
    },
    {
     "data": {
      "text/plain": [
       "153"
      ]
     },
     "execution_count": 36,
     "metadata": {},
     "output_type": "execute_result"
    }
   ],
   "source": [
    "numerology_full(\"Steve Rogers\")"
   ]
  },
  {
   "cell_type": "markdown",
   "metadata": {},
   "source": [
    "## Problem 7 - Caesar Cipher"
   ]
  },
  {
   "cell_type": "code",
   "execution_count": 66,
   "metadata": {},
   "outputs": [],
   "source": [
    "def caesar_cipher_encode(the_text, the_key):\n",
    "    \"\"\"Implementation of the Caesar Cipher encoder.\"\"\"\n",
    "    encoded_text = \"\"\n",
    "    for ch in the_text:\n",
    "        encoded_text = encoded_text + chr(ord(ch) + the_key)\n",
    "    return encoded_text\n",
    "\n",
    "def caesar_cipher_decode(the_text, the_key):\n",
    "    \"\"\"Implementation of the Caesar Cipher decoder.\"\"\"\n",
    "    decoded_text = \"\"\n",
    "    for ch in the_text:\n",
    "        decoded_text = decoded_text + chr(ord(ch) - the_key)\n",
    "    return decoded_text"
   ]
  },
  {
   "cell_type": "code",
   "execution_count": 67,
   "metadata": {},
   "outputs": [
    {
     "data": {
      "text/plain": [
       "'BKqn\\x1co_kna\\x1c]j`\\x1coaraj\\x1cua]no\\x1c]ck'"
      ]
     },
     "execution_count": 67,
     "metadata": {},
     "output_type": "execute_result"
    }
   ],
   "source": [
    "encoded = caesar_cipher_encode(\"FOur score and seven years ago\", -4)\n",
    "encoded"
   ]
  },
  {
   "cell_type": "code",
   "execution_count": 68,
   "metadata": {},
   "outputs": [
    {
     "data": {
      "text/plain": [
       "'FOur score and seven years ago'"
      ]
     },
     "execution_count": 68,
     "metadata": {},
     "output_type": "execute_result"
    }
   ],
   "source": [
    "decoded = caesar_cipher_decode(encoded, -4)\n",
    "decoded"
   ]
  },
  {
   "cell_type": "markdown",
   "metadata": {},
   "source": [
    "## Problem 8 - Circular Caesar Cipher"
   ]
  },
  {
   "cell_type": "code",
   "execution_count": 89,
   "metadata": {},
   "outputs": [],
   "source": [
    "def generate_cipher_table():\n",
    "    \"\"\"Helper function to create a string that has all the letters\"\"\"\n",
    "    cipher_table = \"\"\n",
    "    for i in range(97, 97 + 26):\n",
    "        cipher_table = cipher_table + chr(i)\n",
    "    cipher_table = cipher_table + \" \"\n",
    "    for i in range(65, 65 + 26):\n",
    "        cipher_table = cipher_table + chr(i)\n",
    "    return str(cipher_table)"
   ]
  },
  {
   "cell_type": "code",
   "execution_count": 90,
   "metadata": {},
   "outputs": [
    {
     "data": {
      "text/plain": [
       "'abcdefghijklmnopqrstuvwxyz ABCDEFGHIJKLMNOPQRSTUVWXYZ'"
      ]
     },
     "execution_count": 90,
     "metadata": {},
     "output_type": "execute_result"
    }
   ],
   "source": [
    "cipher_table = generate_cipher_table()\n",
    "cipher_table"
   ]
  },
  {
   "cell_type": "code",
   "execution_count": 107,
   "metadata": {},
   "outputs": [],
   "source": [
    "def caesar_cipher_encode(the_text, the_key, the_table):\n",
    "    \"\"\"Implementation of the Caesar Cipher encoder.\"\"\"\n",
    "    encoded_text = \"\"\n",
    "    for ch in the_text:\n",
    "        char_index = the_table.find(ch)\n",
    "        code = (char_index + the_key) % len(the_table)\n",
    "        encoded_text = encoded_text + the_table[code]\n",
    "    return encoded_text\n",
    "\n",
    "def caesar_cipher_decode(the_text, the_key, the_table):\n",
    "    \"\"\"Implementation of the Caesar Cipher decoder.\"\"\"\n",
    "    decoded_text = \"\"\n",
    "    for ch in the_text:\n",
    "        char_index = the_table.find(ch)\n",
    "        code = (char_index - the_key) % len(the_table)\n",
    "        decoded_text = decoded_text + the_table[code]\n",
    "    return decoded_text\n"
   ]
  },
  {
   "cell_type": "code",
   "execution_count": 108,
   "metadata": {},
   "outputs": [
    {
     "data": {
      "text/plain": [
       "'BKqnwoYknawWjZwoarajwuaWnowWck'"
      ]
     },
     "execution_count": 108,
     "metadata": {},
     "output_type": "execute_result"
    }
   ],
   "source": [
    "encoded = caesar_cipher_encode(\"FOur score and seven years ago\", -4, cipher_table)\n",
    "encoded"
   ]
  },
  {
   "cell_type": "code",
   "execution_count": 109,
   "metadata": {},
   "outputs": [
    {
     "data": {
      "text/plain": [
       "'FOur score and seven years ago'"
      ]
     },
     "execution_count": 109,
     "metadata": {},
     "output_type": "execute_result"
    }
   ],
   "source": [
    "decoded = caesar_cipher_decode(encoded, -4, cipher_table)\n",
    "decoded"
   ]
  },
  {
   "cell_type": "code",
   "execution_count": null,
   "metadata": {},
   "outputs": [],
   "source": []
  }
 ],
 "metadata": {
  "kernelspec": {
   "display_name": "Python 3",
   "language": "python",
   "name": "python3"
  },
  "language_info": {
   "codemirror_mode": {
    "name": "ipython",
    "version": 3
   },
   "file_extension": ".py",
   "mimetype": "text/x-python",
   "name": "python",
   "nbconvert_exporter": "python",
   "pygments_lexer": "ipython3",
   "version": "3.9.1"
  }
 },
 "nbformat": 4,
 "nbformat_minor": 4
}
